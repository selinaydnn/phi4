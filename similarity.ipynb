{
 "cells": [
  {
   "cell_type": "code",
   "id": "initial_id",
   "metadata": {
    "collapsed": true,
    "ExecuteTime": {
     "end_time": "2025-05-02T18:43:26.211558Z",
     "start_time": "2025-05-02T18:43:06.506370Z"
    }
   },
   "source": [
    "import pandas as pd\n",
    "from sentence_transformers import SentenceTransformer\n",
    "from sklearn.metrics.pairwise import cosine_similarity"
   ],
   "outputs": [],
   "execution_count": 1
  },
  {
   "metadata": {
    "ExecuteTime": {
     "end_time": "2025-05-02T18:50:07.466336Z",
     "start_time": "2025-05-02T18:50:07.453496Z"
    }
   },
   "cell_type": "code",
   "source": "df = pd.read_excel(\"/Users/selinaydin/Desktop/q&a/phi4.xlsx\")\n",
   "id": "192ff915d09a4dba",
   "outputs": [],
   "execution_count": 8
  },
  {
   "metadata": {
    "ExecuteTime": {
     "end_time": "2025-05-02T18:50:10.343714Z",
     "start_time": "2025-05-02T18:50:08.210140Z"
    }
   },
   "cell_type": "code",
   "source": [
    "model = SentenceTransformer(\"all-MiniLM-L6-v2\")\n",
    "\n",
    "\n",
    "model_answers = model.encode(df[\"Cevap\"].astype(str).tolist())\n",
    "real_answers = model.encode(df[\"Gerçek Cevap\"].astype(str).tolist())\n",
    "\n",
    "\n",
    "similarities = cosine_similarity(model_answers, real_answers).diagonal()\n",
    "df[\"Benzerlik (%)\"] = (similarities * 100).round(2)\n",
    "\n",
    "\n",
    "df[\"Doğru mu?\"] = df[\"Benzerlik (%)\"].apply(lambda x: \"Doğru\" if x >= 90 else \"Yanlış\")\n",
    "\n",
    "\n",
    "df.to_excel(\"/Users/selinaydin/Desktop/q&a/phi4_skorlu.xlsx\", index=False)"
   ],
   "id": "de76fcbbd85fe5e0",
   "outputs": [],
   "execution_count": 9
  },
  {
   "metadata": {
    "ExecuteTime": {
     "end_time": "2025-05-02T18:50:10.883875Z",
     "start_time": "2025-05-02T18:50:10.878731Z"
    }
   },
   "cell_type": "code",
   "source": "df[[\"Soru\", \"Cevap\", \"Gerçek Cevap\", \"Benzerlik (%)\", \"Doğru mu?\"]].head()\n",
   "id": "793248a5df8c7807",
   "outputs": [
    {
     "data": {
      "text/plain": [
       "                                    Soru  \\\n",
       "0  akademik takvime nereden ulaşabilirim   \n",
       "1  okul kartımı kaybettim ne yapabilirim   \n",
       "2                                    NaN   \n",
       "3                                    NaN   \n",
       "4                                    NaN   \n",
       "\n",
       "                                               Cevap  \\\n",
       "0  Acıbadem Üniversitesi'nde akademik takvime ula...   \n",
       "1  Okul kimlik kartınızı kaybettiyseniz, aşağıdak...   \n",
       "2                                                NaN   \n",
       "3                                                NaN   \n",
       "4                                                NaN   \n",
       "\n",
       "                                        Gerçek Cevap  Benzerlik (%) Doğru mu?  \n",
       "0  Okulun web sitesi > Öğrenci > Öğrenci İşleri >...      68.739998    Yanlış  \n",
       "1  Konu hakkında oryantasyonda da bilgi verilmişt...      49.700001    Yanlış  \n",
       "2                                                NaN     100.000000     Doğru  \n",
       "3                                                NaN     100.000000     Doğru  \n",
       "4                                                NaN     100.000000     Doğru  "
      ],
      "text/html": [
       "<div>\n",
       "<style scoped>\n",
       "    .dataframe tbody tr th:only-of-type {\n",
       "        vertical-align: middle;\n",
       "    }\n",
       "\n",
       "    .dataframe tbody tr th {\n",
       "        vertical-align: top;\n",
       "    }\n",
       "\n",
       "    .dataframe thead th {\n",
       "        text-align: right;\n",
       "    }\n",
       "</style>\n",
       "<table border=\"1\" class=\"dataframe\">\n",
       "  <thead>\n",
       "    <tr style=\"text-align: right;\">\n",
       "      <th></th>\n",
       "      <th>Soru</th>\n",
       "      <th>Cevap</th>\n",
       "      <th>Gerçek Cevap</th>\n",
       "      <th>Benzerlik (%)</th>\n",
       "      <th>Doğru mu?</th>\n",
       "    </tr>\n",
       "  </thead>\n",
       "  <tbody>\n",
       "    <tr>\n",
       "      <th>0</th>\n",
       "      <td>akademik takvime nereden ulaşabilirim</td>\n",
       "      <td>Acıbadem Üniversitesi'nde akademik takvime ula...</td>\n",
       "      <td>Okulun web sitesi &gt; Öğrenci &gt; Öğrenci İşleri &gt;...</td>\n",
       "      <td>68.739998</td>\n",
       "      <td>Yanlış</td>\n",
       "    </tr>\n",
       "    <tr>\n",
       "      <th>1</th>\n",
       "      <td>okul kartımı kaybettim ne yapabilirim</td>\n",
       "      <td>Okul kimlik kartınızı kaybettiyseniz, aşağıdak...</td>\n",
       "      <td>Konu hakkında oryantasyonda da bilgi verilmişt...</td>\n",
       "      <td>49.700001</td>\n",
       "      <td>Yanlış</td>\n",
       "    </tr>\n",
       "    <tr>\n",
       "      <th>2</th>\n",
       "      <td>NaN</td>\n",
       "      <td>NaN</td>\n",
       "      <td>NaN</td>\n",
       "      <td>100.000000</td>\n",
       "      <td>Doğru</td>\n",
       "    </tr>\n",
       "    <tr>\n",
       "      <th>3</th>\n",
       "      <td>NaN</td>\n",
       "      <td>NaN</td>\n",
       "      <td>NaN</td>\n",
       "      <td>100.000000</td>\n",
       "      <td>Doğru</td>\n",
       "    </tr>\n",
       "    <tr>\n",
       "      <th>4</th>\n",
       "      <td>NaN</td>\n",
       "      <td>NaN</td>\n",
       "      <td>NaN</td>\n",
       "      <td>100.000000</td>\n",
       "      <td>Doğru</td>\n",
       "    </tr>\n",
       "  </tbody>\n",
       "</table>\n",
       "</div>"
      ]
     },
     "execution_count": 10,
     "metadata": {},
     "output_type": "execute_result"
    }
   ],
   "execution_count": 10
  },
  {
   "metadata": {},
   "cell_type": "code",
   "outputs": [],
   "execution_count": null,
   "source": "",
   "id": "78b399a5afe02e87"
  }
 ],
 "metadata": {
  "kernelspec": {
   "display_name": "Python 3",
   "language": "python",
   "name": "python3"
  },
  "language_info": {
   "codemirror_mode": {
    "name": "ipython",
    "version": 2
   },
   "file_extension": ".py",
   "mimetype": "text/x-python",
   "name": "python",
   "nbconvert_exporter": "python",
   "pygments_lexer": "ipython2",
   "version": "2.7.6"
  }
 },
 "nbformat": 4,
 "nbformat_minor": 5
}
