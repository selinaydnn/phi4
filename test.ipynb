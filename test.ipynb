{
 "cells": [
  {
   "cell_type": "code",
   "id": "initial_id",
   "metadata": {
    "collapsed": true,
    "ExecuteTime": {
     "end_time": "2025-05-02T18:28:43.699535Z",
     "start_time": "2025-05-02T18:28:42.570246Z"
    }
   },
   "source": [
    "from utils import load_chroma_db\n",
    "chroma_db = load_chroma_db()\n",
    "\n",
    "retriever = chroma_db.as_retriever(search_type=\"mmr\", search_kwargs={\"k\": 3})\n",
    "docs = retriever.invoke(\"akademik takvime nereden ulaşabilirim\")\n",
    "\n",
    "for doc in docs:\n",
    "    print(\"PDF:\", doc.metadata.get(\"source\", \"BULUNAMADI\"))\n",
    "    print(\"İçerik:\", doc.page_content[:100])\n",
    "    print(\"---\")\n"
   ],
   "outputs": [
    {
     "name": "stdout",
     "output_type": "stream",
     "text": [
      "Veritabanındaki toplam vektör sayısı: 2822\n",
      "PDF: birlesik_dosya.pdf\n",
      "İçerik: geçerlidir Aynı anda üniversitede öğrenim gören kardeşler için akademik takvime nereden ulaşabilirim\n",
      "---\n",
      "PDF: birlesik_dosya.pdf\n",
      "İçerik: ve saatlerde açıktır?  Kütüphane saatleri pandemi nedeniyle güncellenmektedir. Güncel saatlere kütüp\n",
      "---\n",
      "PDF: birlesik_dosya.pdf\n",
      "İçerik: 269 Vize haftası ne zaman\n",
      "270 Ders kaydı sırasında hata alıyorum, ne yapmalıyım\n",
      "271 Uzaktan eğitim s\n",
      "---\n"
     ]
    }
   ],
   "execution_count": 1
  },
  {
   "metadata": {},
   "cell_type": "code",
   "outputs": [],
   "execution_count": null,
   "source": "",
   "id": "9f169aecc9152d2f"
  }
 ],
 "metadata": {
  "kernelspec": {
   "display_name": "Python 3",
   "language": "python",
   "name": "python3"
  },
  "language_info": {
   "codemirror_mode": {
    "name": "ipython",
    "version": 2
   },
   "file_extension": ".py",
   "mimetype": "text/x-python",
   "name": "python",
   "nbconvert_exporter": "python",
   "pygments_lexer": "ipython2",
   "version": "2.7.6"
  }
 },
 "nbformat": 4,
 "nbformat_minor": 5
}
