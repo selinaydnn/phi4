{
 "cells": [
  {
   "cell_type": "code",
   "id": "initial_id",
   "metadata": {
    "collapsed": true,
    "ExecuteTime": {
     "end_time": "2025-03-07T09:32:06.218821Z",
     "start_time": "2025-03-07T09:32:05.210333Z"
    }
   },
   "source": [
    "import os\n",
    "import shutil\n",
    "import glob\n",
    "from tqdm import tqdm\n",
    "from multiprocessing import Pool\n",
    "from typing import List, Tuple\n",
    "import sqlite3\n",
    "from langchain.document_loaders import (\n",
    "    CSVLoader,\n",
    "    EverNoteLoader,\n",
    "    PyMuPDFLoader,\n",
    "    TextLoader,\n",
    "    UnstructuredEmailLoader,\n",
    "    UnstructuredEPubLoader,\n",
    "    UnstructuredHTMLLoader,\n",
    "    UnstructuredMarkdownLoader,\n",
    "    UnstructuredODTLoader,\n",
    "    UnstructuredPowerPointLoader,\n",
    "    UnstructuredWordDocumentLoader,\n",
    "    PyPDFLoader\n",
    ")\n",
    "from langchain.embeddings import HuggingFaceEmbeddings, OllamaEmbeddings\n",
    "from langchain_ollama import ChatOllama\n",
    "from langchain.vectorstores import FAISS, Chroma\n",
    "from langchain.docstore.document import Document\n",
    "from langchain.prompts import PromptTemplate\n",
    "from langchain.chains import RetrievalQA\n",
    "from langchain.indexes.vectorstore import VectorStoreIndexWrapper\n",
    "from langchain.indexes import VectorstoreIndexCreator\n",
    "from langchain.vectorstores.pgvector import PGVector, DistanceStrategy\n",
    "from langchain.text_splitter import CharacterTextSplitter, RecursiveCharacterTextSplitter\n",
    "from langchain.embeddings import OllamaEmbeddings\n",
    "from langchain_ollama import OllamaEmbeddings\n",
    "import yaml\n",
    "from langchain.vectorstores import Chroma\n",
    "from langchain_huggingface import HuggingFaceEmbeddings\n",
    "import importlib\n",
    "import utils\n",
    "importlib.reload(utils) "
   ],
   "outputs": [
    {
     "name": "stderr",
     "output_type": "stream",
     "text": [
      "/Users/selinaydin/PycharmProjects/pythonProject7/utils.py:54: LangChainDeprecationWarning: The class `Chroma` was deprecated in LangChain 0.2.9 and will be removed in 1.0. An updated version of the class exists in the :class:`~langchain-chroma package and should be used instead. To use it run `pip install -U :class:`~langchain-chroma` and import as `from :class:`~langchain_chroma import Chroma``.\n",
      "  chroma_db = Chroma(\n"
     ]
    },
    {
     "name": "stdout",
     "output_type": "stream",
     "text": [
      "Veritabanındaki toplam vektör sayısı: 0\n",
      "Veritabanındaki toplam vektör sayısı: 0\n"
     ]
    },
    {
     "data": {
      "text/plain": [
       "<module 'utils' from '/Users/selinaydin/PycharmProjects/pythonProject7/utils.py'>"
      ]
     },
     "execution_count": 1,
     "metadata": {},
     "output_type": "execute_result"
    }
   ],
   "execution_count": 1
  },
  {
   "metadata": {
    "ExecuteTime": {
     "end_time": "2025-03-07T09:32:22.559444Z",
     "start_time": "2025-03-07T09:32:22.557238Z"
    }
   },
   "cell_type": "code",
   "source": "os.environ[\"TOKENIZERS_PARALLELISM\"] = \"false\"",
   "id": "b7221d6f6749c230",
   "outputs": [],
   "execution_count": 2
  },
  {
   "metadata": {
    "ExecuteTime": {
     "end_time": "2025-03-07T09:32:23.539943Z",
     "start_time": "2025-03-07T09:32:23.533884Z"
    }
   },
   "cell_type": "code",
   "source": [
    "LOADER_MAPPING = {\n",
    "    \".pds_not\": (CSVLoader, {}),\n",
    "    \".txt\": (TextLoader, {\"encoding\": \"utf8\"}),\n",
    "    \".pdf\": (PyMuPDFLoader, {}),\n",
    "    \".docx\": (UnstructuredWordDocumentLoader, {}),\n",
    "    \".epub\": (UnstructuredEPubLoader, {}),\n",
    "    \".html\": (UnstructuredHTMLLoader, {}),\n",
    "    \".md\": (UnstructuredMarkdownLoader, {}),\n",
    "    \".odt\": (UnstructuredODTLoader, {}),\n",
    "    \".pptx\": (UnstructuredPowerPointLoader, {}),\n",
    "   \n",
    "}\n",
    "\n",
    "def load_single_document(file_path: str) -> List[Document]:\n",
    "    ext = \".\" + file_path.rsplit(\".\", 1)[-1]\n",
    "    if ext in LOADER_MAPPING:\n",
    "        loader_class, loader_args = LOADER_MAPPING[ext]\n",
    "        loader = loader_class(file_path, **loader_args)\n",
    "        return loader.load()\n",
    "    raise ValueError(f\"Unsupported file extension '{ext}'\")\n",
    "\n",
    "\n",
    "def load_documents_sequentially(source_dir: str, ignored_files: List[str] = []) -> List[Document]:\n",
    "    \"\"\"\n",
    "    Load all documents from the source directory sequentially, ignoring specified files.\n",
    "    \"\"\"\n",
    "    all_files = []\n",
    "    for ext in LOADER_MAPPING:\n",
    "        all_files.extend(\n",
    "            glob.glob(os.path.join(source_dir, f\"**/*{ext}\"), recursive=True)\n",
    "        )\n",
    "    filtered_files = [file_path for file_path in all_files if file_path not in ignored_files]\n",
    "\n",
    "    results = []\n",
    "    for file_path in tqdm(filtered_files, desc=\"Loading documents\", ncols=80):\n",
    "        results.extend(load_single_document(file_path))\n",
    "\n",
    "    return results"
   ],
   "id": "126b0898f9344482",
   "outputs": [],
   "execution_count": 3
  },
  {
   "metadata": {
    "ExecuteTime": {
     "end_time": "2025-03-07T09:32:25.491058Z",
     "start_time": "2025-03-07T09:32:24.601089Z"
    }
   },
   "cell_type": "code",
   "source": "docs = load_documents_sequentially(\"/Users/selinaydin/PycharmProjects/phi4/source_doc\")",
   "id": "4da3bf2a938630b3",
   "outputs": [
    {
     "name": "stderr",
     "output_type": "stream",
     "text": [
      "Loading documents: 100%|██████████████████████████| 9/9 [00:00<00:00, 10.27it/s]\n"
     ]
    }
   ],
   "execution_count": 4
  },
  {
   "metadata": {
    "ExecuteTime": {
     "end_time": "2025-03-07T09:32:26.654159Z",
     "start_time": "2025-03-07T09:32:26.651759Z"
    }
   },
   "cell_type": "code",
   "source": [
    "print(f\"Toplam Yüklenen Belgeler: {len(docs)}\")\n",
    "for doc in docs[:5]:\n",
    "    print(doc.page_content)"
   ],
   "id": "894f4f07c6695c28",
   "outputs": [
    {
     "name": "stdout",
     "output_type": "stream",
     "text": [
      "Toplam Yüklenen Belgeler: 271\n",
      "GENEL SORULAR \n",
      " \n",
      "Ø Hocaların maillerine, telefonlarına nereden ulaşabilirim? \n",
      "BademNet sayfasında arama butonundan ulaşabilirsiniz. \n",
      " \n",
      "Ø Ders programlarını nereden görüntüleyebilirim? \n",
      "OBS’de ders programı görüntüleme ekranından ulaşabilirsiniz. \n",
      " \n",
      "Ø Ders kayıt ekranında alacağım ders açılmamış görünüyor, ne yapabilirim? \n",
      "Açılacak derslerin listesi bağlı bulunduğunuz Dekanlık/Yüksekokuldan Öğrenci İşleri Müdürlüğüne \n",
      "iletilir. OBS’de ders açılmadı uyarısı veriyor ise ve bu bir zorunlu ders ise mutlaka danışman \n",
      "hocanıza veya Dekanlığınıza bu konuyu iletmelisiniz. Danışman hocalarınız bağlı bulunduğunuz \n",
      "Fakülte/ Yüksekokul Sekreterliğiniz ile iletişime geçecektir, Öğrenci İşleri Müdürlüğüne bilgi \n",
      "verecektir. \n",
      " \n",
      "Ø Ders kayıt yenilemek istiyorum, nasıl yapabilirim? \n",
      "Kayıt yenilemek için Mali İşler Müdürlüğü ile görüşmelisiniz. Ödeme işlemlerini tamamladıktan \n",
      "sonra ders kayıt zamanında mutlaka ders kaydınızı tamamlamalısınız.  \n",
      "Ø Kayıt yenilemeden ders kayıt yapabiliyor muyum? \n",
      "Ücreti tamamlamadan ders kaydı yapamamaktasınız. Bu sebeple Mali İşler Müdürlüğü ile ders \n",
      "kayıt öncesinde ödemenizi tamamlamanız gerekir. \n",
      " \n",
      "Ø ACU Üniversite Seçmeli Derslerin kontenjanları dolu, seçemiyorum. Ne yapabilirim? \n",
      "ACU Üniversite Seçmeli derslerinin kontenjanları dersin ilgili öğretim elemanı tarafından \n",
      "belirlenir. Kontenjan arttırımı talep etmeden önce ders programınıza uygun başka bir seçmeli \n",
      "ders seçmelisiniz. Tüm kontenjanların dolması halinde dersin ilgili öğretim elemanından \n",
      "kontenjan artırımını talep edebilirsiniz. E-posta adreslerine BademNet’ten ulaşabilirsiniz. \n",
      "Hocanıza mail atarken mailde bilgi kısmına Öğrenci İşleri’ni eklemeyi unutmayınız. \n",
      " \n",
      "Ø Seçmek istediğim ACU Üniversite Seçmeli dersin kontenjanları dolu, seçemiyorum, seçmek \n",
      "istiyorum. Nasıl arttırabilirim? \n",
      "ACU Üniversite Seçmeli derslerinin kontenjanları dersin ilgili öğretim elemanı tarafından \n",
      "belirlenir. Kontenjan arttırımı talep etmeden önce ders programınıza uygun başka bir seçmeli \n",
      "ders seçmelisiniz. Tüm kontenjanların dolması halinde dersin ilgili öğretim elemanından \n",
      "kontenjan artırımını talep edebilirsiniz. E-posta adreslerine Badem.Net’ten ulaşabilirsiniz. \n",
      "Hocanıza mail atarken mailde bilgi kısmına Öğrenci İşleri’ni eklemeyi unutmayınız. \n",
      " \n",
      "Ø Ders kaydımı yaptım ancak danışmanım onaylamadı ne yapabilirim? \n",
      "Ders kaydınızı tamamladıktan sonra danışman hocanıza bildirebilirsiniz. \n",
      " \n",
      "Ø OBS’de ders kaydım görünüyor ancak EYS’de görünmüyor, ne yapabilirim? \n",
      "Ders kaydınız sizin ve danışmanınız tarafından onaylandı ise, 1 iş günü sonrasında EYS’ye de \n",
      "yansıyacaktır. Yansımaması halinde Eğitim Teknolojileri Birimine \n",
      "Egitim.Teknolojileri@acibadem.edu.tr adresine e-posta atabilirsiniz. Sizlere yardımcı olacaklardır. \n",
      " \n",
      " \n",
      " \n",
      "Ø Ders programında alttan aldığım ders yok, ders programını nereden görebilirim? \n",
      "\n",
      "Eski müfredatlarda dersin kodu, adı, kredi, AKTS bilgisi değişmiş olabilir. Böyle durumlarda ders \n",
      "ya eski kod ile intibak edilir, ya da alttan şubesiyle açılır. Ders programında aynı kod ile görünmez \n",
      "ise mutlaka yeni kodu ile görünür. Hiçbir şekilde görememeniz halinde danışman hocanız veya \n",
      "Dekanlığınız ile görüşmelisiniz. \n",
      " \n",
      "Ø BademNet’e giremiyorum, nasıl yapabilirim? \n",
      "ACU e-posta kullanıcı adı-şifre işlemleri, mail grupları, ASOS, Bademnet, hastane yakın tanımlama \n",
      "vb. işlemleri ile mesai saatleri içerisinde (hafta içi 08:30-17:30) Sistem Destek Ofisi \n",
      "ilgilenmektedir. Sistem@acibadem.edu.tr  adresine mail atabilir veya 0216 500 4430 dahili \n",
      "numarasını arayabilirsiniz. \n",
      " \n",
      "Ø Acıbadem Hastanelerinde indirimim görünmüyor? \n",
      "ACU e-posta kullanıcı adı-şifre işlemleri, mail grupları, ASOS, Bademnet, hastane yakın tanımlama \n",
      "vb. işlemleri ile mesai saatleri içerisinde (hafta içi 08:30-17:30) Sistem Destek Ofisi \n",
      "ilgilenmektedir. Sistem@acibadem.edu.tr  adresine mail atabilir veya 0216 500 4430 dahili \n",
      "numarasını arayabilirsiniz. \n",
      " \n",
      "Ø Kampüs internetine bağlanamıyorum, nasıl yapabilirim, kimle konuşmalıyım? \n",
      "ACU e-posta kullanıcı adı-şifre işlemleri, mail grupları, ASOS, Bademnet, hastane yakın tanımlama \n",
      "vb. işlemleri ile mesai saatleri içerisinde (hafta içi 08:30-17:30) Sistem Destek Ofisi \n",
      "ilgilenmektedir. Sistem@acibadem.edu.tr adresine mail atabilir veya 0216 500 4430 dahili \n",
      "numarasını arayabilirsiniz. \n",
      " \n",
      "Ø Hocaların attığı mailler bize gelmiyor? \n",
      "ACU e-posta kullanıcı adı-şifre işlemleri, mail grupları, ASOS, Bademnet, hastane yakın tanımlama \n",
      "vb. işlemleri ile mesai saatleri içerisinde (hafta içi 08:30-17:30) Sistem Destek Ofisi \n",
      "ilgilenmektedir. Sistem@acibadem.edu.tr adresine mail atabilir veya 0216 500 4430 dahili \n",
      "numarasını arayabilirsiniz. \n",
      " \n",
      "Ø OBS/EYS’ye nasıl girilir? \n",
      "Öğrenci Bilgi Sistemi (OBS) giriş bilgileriniz ile Eğitim Yönetim Sistemi (EYS) giriş bilgileriniz aynıdır. \n",
      "Giriş için kullanıcı adınız öğrenci numaranızdır. Sisteme ilk kez giriş yaparken \n",
      "obs.acibadem.edu.tr/oibs/std/login.aspx adresinden şifre sıfırla yaparak yeni bir şifre \n",
      "oluşturabilirsiniz. OBS’ye giriş yaptıktan sonra aynı bilgilerle EYS’ye giriş yapamıyorsanız \n",
      "egitim.teknolojileri@acibadem.edu.tr adresine mail gönderebilirsiniz. \n",
      " \n",
      "Ø OBS şifremi unuttum, ne yapabilirim? \n",
      "Şifrenizi unuttuğunuzda login ekranındaki “Şifre Sıfırla” linkini kullanarak da yeni bir şifre \n",
      "belirleyebilirsiniz. Şifre belirlerken aşağıdaki kriterlere göre belirlemeniz gerekmektedir. \n",
      "- Büyük harf ve küçük harf olmalı, \n",
      "- Rakam olmalı, \n",
      "- Noktalama işaretleri olmalı (. , gibi) \n",
      "- Özel karakterler olmalı (/ * gibi) \n",
      "- 8 veya daha çok karakter içermelidir. \n",
      "Şifre sıfırlama esnasında yaşadığınız bir sorun olursa ekran görüntüsüyle birlikte \n",
      "obs@acibadem.edu.tr adresine mail gönderebilirsiniz. \n",
      " \n",
      "\n",
      "Ø Okuldaki dolapları kullanmak istiyorum, kime söylemeliyim? \n",
      "Konu hakkında oryantasyonda da bilgi verilmiştir. Dolaplarla, öğrenci kimlik kartları ile Kart \n",
      "Merkezi (A blok giriş) ilgilenmektedir,  kartmerkezi@acibadem.edu.tr  adresine e-posta \n",
      "atabilirsiniz. \n",
      " \n",
      "Ø Okul kimlik kartımı kaybettim, ne yapabilirim? \n",
      "Konu hakkında oryantasyonda da bilgi verilmiştir. Dolaplarla, öğrenci kimlik kartları ile Kart \n",
      "Merkezi (A blok giriş) ilgilenmektedir,  kartmerkezi@acibadem.edu.tr adresine e-posta \n",
      "atabilirsiniz. \n",
      " \n",
      "Ø Çift anadal & yandal başvurusu nasıl yapabilirim, duyurular nerede yayımlanır? \n",
      "Üniversitemizin web sitesi duyurular alanında başvurularla ilgili duyurular yayımlanır. Başvurular \n",
      "elden teslim alınmaktadır. Duyuruları takip etmeniz gerekmektedir. \n",
      " \n",
      "Ø Çift anadal & yandal ders kaydı nasıl yapılır? \n",
      "Aynı anadal ders kaydınız gibi OBS’de ders kayıt ekranınızdan dersleri paketinize ekleyerek \n",
      "yapıyorsunuz. Dersi paketinize ekleyip, ödemenizi tamamlayıp, ders kaydınızı kesinleştirmelisiniz. \n",
      "Ders kaydınız tamamlandıktan 1 iş günü sonrasında EYS’de ÇAP/Yap öğrenci numaranız ve şifreniz \n",
      "ile derslerinizi görüntüleyebilirsiniz. \n",
      " \n",
      "Ø Tek ders/ek sınav başvuruları nereye yapılır? \n",
      "Bağlı bulunduğunuz Fakülte/Yüksekokul Sekreterliğine dilekçe ile başvurmalısınız. Dilekçenizde \n",
      "mutlaka danışman, Mali İşler Müdürlüğü onayı olmalıdır. \n",
      " \n",
      "Ø Okul uzattım, ders kaydı nasıl yapılır? \n",
      "OBS’de ders kayıt ekranınızdan dersleri paketinize ekleyip, ödemenizi tamamlayıp, ders kaydınızı \n",
      "kesinleştirmelisiniz. Ders kaydınız tamamlandıktan 1 iş günü sonrasında EYS’de derslerinizi \n",
      "görüntüleyebilirsiniz. \n",
      " \n",
      "Ø Diplomamı nasıl alabilirim? \n",
      "Diplomanızı okula bizzat gelerek ya da noterden vekâletname vererek teslim alabilirsiniz. \n",
      "Diploma teslim alınırken yanınızda kimliğiniz ve öğrenci kartınızın bulunması gerekmektedir. \n",
      " \n",
      "Ø Üst sınıftan ders almak istiyorum, nasıl yapabilirim? \n",
      " \n",
      "Ø Daha önce aldığım bir dersi not yükseltme amaçlı tekrar almak istiyorum, nasıl yapabilirim? \n",
      "       Bağlı bulunduğunuz Fakülte/ Yüksekokul Sekreterliğiniz ile iletişime geçmeniz gerekmektedir. \n",
      "Ø Daha önce Üniversite okudum, dersleri nasıl saydırabilirim/muaf ettirebilirim? \n",
      "Bağlı bulunduğunuz Fakülte/ Yüksekokul Sekreterliğinize transkript ve ders içeriği ile başvuruda \n",
      "bulunmanız gerekmektedir. \n",
      " \n",
      " \n",
      "Ø UZEM derslerini nereden görüntüleyebilirim? UZEM’in ders programında günü, saati neden yok? \n",
      " \n",
      " \n",
      "Ø Yemekhane bursu nereden talep edebilirim? \n",
      "Badem.net üzerinden başvuru alanını takip edebilirsiniz \n",
      " \n",
      "\n",
      "Ø ÖSYM bursum var/yok, ekstra bir burs talebi nereden yapabilirim? \n",
      "Mali işler ile iletişime geçmeniz gerekmektedir. \n",
      " \n",
      "Ø Sistemde kayıtlı telefon numaramı nasıl güncelleyebilirim? \n",
      "ogrenci.isleri@acibadem.edu.tr  mail adresine kendinizi bölümünüzü tanıtarak güncel cep \n",
      "telefonunuzu mail atarak güncelleme yapabilirsiniz. \n",
      " \n",
      "Ø Öğrenci belgesi, transkript belgesi ,disiplin belgesi talebini nasıl yapabilirim? \n",
      "Obs den kullanıcı işlemleri menüsünün altından belge taleplerinde bulunabilirsiniz. \n",
      " \n",
      " \n",
      "\n",
      " \n",
      " \n",
      " \n",
      " 1 of 19 \n",
      " \n",
      " \n",
      " \n",
      " \n",
      " \n",
      " \n",
      " \n",
      " \n",
      " \n",
      " \n",
      " \n",
      " \n",
      " \n",
      " \n",
      " \n",
      " \n",
      " \n",
      " \n",
      "Öğrenci El Kitabı \n",
      "ACIBADEM MEHMET ALİ AYDINLAR \n",
      "ÜNİVERSİTESİ \n",
      " \n",
      "İNGİLİZCE HAZIRLIK PROGRAMI \n",
      "\n"
     ]
    }
   ],
   "execution_count": 5
  },
  {
   "metadata": {
    "ExecuteTime": {
     "end_time": "2025-03-07T09:32:27.542491Z",
     "start_time": "2025-03-07T09:32:27.539481Z"
    }
   },
   "cell_type": "code",
   "source": [
    "print(os.path.exists(\"/Users/selinaydin/PycharmProjects/phi4/source_doc\"))\n",
    "print(os.listdir(\"/Users/selinaydin/PycharmProjects/phi4/source_doc\"))"
   ],
   "id": "c694925733f9a572",
   "outputs": [
    {
     "name": "stdout",
     "output_type": "stream",
     "text": [
      "True\n",
      "['Sıkça Sorulan Sorular-Genel sorular.pdf', '.DS_Store', 'acupep-2023-2024-ogrenci-el-kitabi.pdf', 'yatay-gecis-yonergesi (1).pdf', 'acu-taban-puanlar-.pdf', '2024-2025-guz-yariyili-kurumlararasi-yatay-gecis-kontenjanlari.pdf', 'SIKÇA SORULAN SORULAR.pdf', 'Lisans Programları.pdf', 'ngilizce-hazirlik-programi-ile-ingilizce-dersleri-egitim-ogretim-ve-sinav-yonergesi.pdf', 'birlesik_dosya.pdf']\n"
     ]
    }
   ],
   "execution_count": 6
  },
  {
   "metadata": {
    "ExecuteTime": {
     "end_time": "2025-03-07T09:32:28.988751Z",
     "start_time": "2025-03-07T09:32:28.904958Z"
    }
   },
   "cell_type": "code",
   "source": [
    "text_splitter = RecursiveCharacterTextSplitter(\n",
    "    chunk_size=200,\n",
    "    chunk_overlap=50\n",
    ")\n",
    "chunks = text_splitter.split_documents(docs)\n",
    "unique_chunks = list({chunk.page_content: chunk for chunk in chunks}.values())"
   ],
   "id": "ccd8bbac2eba06e0",
   "outputs": [],
   "execution_count": 7
  },
  {
   "metadata": {
    "ExecuteTime": {
     "end_time": "2025-03-07T09:32:29.800856Z",
     "start_time": "2025-03-07T09:32:29.795810Z"
    }
   },
   "cell_type": "code",
   "source": [
    "unique_chunks = list({chunk.page_content: chunk for chunk in chunks}.values())\n",
    "print(f\"Benzersiz parça sayısı: {len(unique_chunks)}\")"
   ],
   "id": "c281f1cec9fff2ec",
   "outputs": [
    {
     "name": "stdout",
     "output_type": "stream",
     "text": [
      "Benzersiz parça sayısı: 5289\n"
     ]
    }
   ],
   "execution_count": 8
  },
  {
   "metadata": {
    "ExecuteTime": {
     "end_time": "2025-03-07T09:32:31.060409Z",
     "start_time": "2025-03-07T09:32:31.011484Z"
    }
   },
   "cell_type": "code",
   "source": [
    "import re\n",
    "\n",
    "cleaned_chunks = []\n",
    "for chunk in unique_chunks:\n",
    "\n",
    "    text_no_newlines = chunk.page_content.replace(\"\\n\", \" \")\n",
    "    \n",
    "\n",
    "    text_no_extra_spaces = ' '.join(text_no_newlines.split())\n",
    "    \n",
    "\n",
    "    cleaned_text = re.sub(r'[^\\w\\sçÇğĞıİöÖşŞüÜ]', '', text_no_extra_spaces)\n",
    "    \n",
    "\n",
    "    chunk.page_content = cleaned_text\n",
    "    \n",
    "\n",
    "    cleaned_chunks.append(chunk)\n",
    "\n",
    "print(f\"Benzersiz ve temizlenmiş parça sayısı: {len(cleaned_chunks)}\")"
   ],
   "id": "2980e1256ddbf0a7",
   "outputs": [
    {
     "name": "stdout",
     "output_type": "stream",
     "text": [
      "Benzersiz ve temizlenmiş parça sayısı: 5289\n"
     ]
    }
   ],
   "execution_count": 9
  },
  {
   "metadata": {
    "ExecuteTime": {
     "end_time": "2025-03-07T09:32:32.844666Z",
     "start_time": "2025-03-07T09:32:32.842092Z"
    }
   },
   "cell_type": "code",
   "source": [
    "for chunk in chunks[:10]:  \n",
    "    print(chunk.page_content.strip()) "
   ],
   "id": "e702ac71820f2a7",
   "outputs": [
    {
     "name": "stdout",
     "output_type": "stream",
     "text": [
      "GENEL SORULAR Ø Hocaların maillerine telefonlarına nereden ulaşabilirim BademNet sayfasında arama butonundan ulaşabilirsiniz Ø Ders programlarını nereden görüntüleyebilirim\n",
      "Ø Ders programlarını nereden görüntüleyebilirim OBSde ders programı görüntüleme ekranından ulaşabilirsiniz Ø Ders kayıt ekranında alacağım ders açılmamış görünüyor ne yapabilirim\n",
      "Açılacak derslerin listesi bağlı bulunduğunuz DekanlıkYüksekokuldan Öğrenci İşleri Müdürlüğüne iletilir OBSde ders açılmadı uyarısı veriyor ise ve bu bir zorunlu ders ise mutlaka danışman\n",
      "hocanıza veya Dekanlığınıza bu konuyu iletmelisiniz Danışman hocalarınız bağlı bulunduğunuz Fakülte Yüksekokul Sekreterliğiniz ile iletişime geçecektir Öğrenci İşleri Müdürlüğüne bilgi\n",
      "verecektir Ø Ders kayıt yenilemek istiyorum nasıl yapabilirim Kayıt yenilemek için Mali İşler Müdürlüğü ile görüşmelisiniz Ödeme işlemlerini tamamladıktan\n",
      "sonra ders kayıt zamanında mutlaka ders kaydınızı tamamlamalısınız Ø Kayıt yenilemeden ders kayıt yapabiliyor muyum\n",
      "Ücreti tamamlamadan ders kaydı yapamamaktasınız Bu sebeple Mali İşler Müdürlüğü ile ders kayıt öncesinde ödemenizi tamamlamanız gerekir\n",
      "Ø ACU Üniversite Seçmeli Derslerin kontenjanları dolu seçemiyorum Ne yapabilirim ACU Üniversite Seçmeli derslerinin kontenjanları dersin ilgili öğretim elemanı tarafından\n",
      "belirlenir. Kontenjan arttırımı talep etmeden önce ders programınıza uygun başka bir seçmeli \n",
      "ders seçmelisiniz. Tüm kontenjanların dolması halinde dersin ilgili öğretim elemanından\n",
      "kontenjan artırımını talep edebilirsiniz Eposta adreslerine BademNetten ulaşabilirsiniz Hocanıza mail atarken mailde bilgi kısmına Öğrenci İşlerini eklemeyi unutmayınız\n"
     ]
    }
   ],
   "execution_count": 10
  },
  {
   "metadata": {
    "ExecuteTime": {
     "end_time": "2025-03-07T09:32:34.052492Z",
     "start_time": "2025-03-07T09:32:34.049439Z"
    }
   },
   "cell_type": "code",
   "source": [
    "print(f\"Toplam Parça Sayısı: {len(chunks)}\")\n",
    "for chunk in chunks[10:25]:  \n",
    "    print(chunk.page_content)"
   ],
   "id": "fba74fdfff2081ff",
   "outputs": [
    {
     "name": "stdout",
     "output_type": "stream",
     "text": [
      "Toplam Parça Sayısı: 5434\n",
      "Ø Seçmek istediğim ACU Üniversite Seçmeli dersin kontenjanları dolu seçemiyorum seçmek istiyorum Nasıl arttırabilirim\n",
      "istiyorum Nasıl arttırabilirim ACU Üniversite Seçmeli derslerinin kontenjanları dersin ilgili öğretim elemanı tarafından\n",
      "belirlenir Kontenjan arttırımı talep etmeden önce ders programınıza uygun başka bir seçmeli ders seçmelisiniz Tüm kontenjanların dolması halinde dersin ilgili öğretim elemanından\n",
      "kontenjan artırımını talep edebilirsiniz Eposta adreslerine BademNetten ulaşabilirsiniz Hocanıza mail atarken mailde bilgi kısmına Öğrenci İşlerini eklemeyi unutmayınız\n",
      "Ø Ders kaydımı yaptım ancak danışmanım onaylamadı ne yapabilirim Ders kaydınızı tamamladıktan sonra danışman hocanıza bildirebilirsiniz\n",
      "Ø OBSde ders kaydım görünüyor ancak EYSde görünmüyor ne yapabilirim Ders kaydınız sizin ve danışmanınız tarafından onaylandı ise 1 iş günü sonrasında EYSye de\n",
      "yansıyacaktır Yansımaması halinde Eğitim Teknolojileri Birimine EgitimTeknolojileriacibademedutr adresine eposta atabilirsiniz Sizlere yardımcı olacaklardır\n",
      "Ø Ders programında alttan aldığım ders yok ders programını nereden görebilirim\n",
      "Eski müfredatlarda dersin kodu adı kredi AKTS bilgisi değişmiş olabilir Böyle durumlarda ders\n",
      "ya eski kod ile intibak edilir ya da alttan şubesiyle açılır Ders programında aynı kod ile görünmez ise mutlaka yeni kodu ile görünür Hiçbir şekilde görememeniz halinde danışman hocanız veya\n",
      "Dekanlığınız ile görüşmelisiniz Ø BademNete giremiyorum nasıl yapabilirim ACU eposta kullanıcı adışifre işlemleri mail grupları ASOS Bademnet hastane yakın tanımlama\n",
      "vb. işlemleri ile mesai saatleri içerisinde (hafta içi 08:30-17:30) Sistem Destek Ofisi \n",
      "ilgilenmektedir. Sistem@acibadem.edu.tr  adresine mail atabilir veya 0216 500 4430 dahili\n",
      "numarasını arayabilirsiniz Ø Acıbadem Hastanelerinde indirimim görünmüyor ACU eposta kullanıcı adışifre işlemleri mail grupları ASOS Bademnet hastane yakın tanımlama\n",
      "vb işlemleri ile mesai saatleri içerisinde hafta içi 08301730 Sistem Destek Ofisi ilgilenmektedir Sistemacibademedutr adresine mail atabilir veya 0216 500 4430 dahili\n",
      "numarasını arayabilirsiniz Ø Kampüs internetine bağlanamıyorum nasıl yapabilirim kimle konuşmalıyım\n"
     ]
    }
   ],
   "execution_count": 11
  },
  {
   "metadata": {
    "ExecuteTime": {
     "end_time": "2025-03-07T09:32:39.493521Z",
     "start_time": "2025-03-07T09:32:35.308853Z"
    }
   },
   "cell_type": "code",
   "source": [
    "from utils import load_chroma_db\n",
    "\n",
    "def create_embeddings():\n",
    "    return HuggingFaceEmbeddings(model_name=\"sentence-transformers/msmarco-bert-base-dot-v5\")\n",
    "embedding_model = create_embeddings()\n",
    "\n",
    "chroma_db = load_chroma_db()\n",
    "print(\"Chroma veritabanı başarıyla oluşturuldu.\")"
   ],
   "id": "1992c79fb32d8f37",
   "outputs": [
    {
     "name": "stdout",
     "output_type": "stream",
     "text": [
      "Chroma veritabanı başarıyla oluşturuldu.\n"
     ]
    }
   ],
   "execution_count": 12
  },
  {
   "metadata": {
    "ExecuteTime": {
     "end_time": "2025-03-07T09:32:54.244751Z",
     "start_time": "2025-03-07T09:32:54.231246Z"
    }
   },
   "cell_type": "code",
   "source": [
    "llm = ChatOllama(\n",
    "    model=\"llama3.2\", \n",
    "    temperature=0.4,\n",
    "    max_tokens=524\n",
    ")"
   ],
   "id": "96f9b6fb19f596cc",
   "outputs": [],
   "execution_count": 13
  },
  {
   "metadata": {
    "ExecuteTime": {
     "end_time": "2025-03-07T09:33:16.358168Z",
     "start_time": "2025-03-07T09:32:55.010700Z"
    }
   },
   "cell_type": "code",
   "source": [
    "def create_prompt_template():\n",
    "    prompt_template = \"\"\"\n",
    "   İnsan: Aşağıdaki bağlamı kullanarak soruya detaylı bir şekilde ve anlamlı bir şekilde yanıt ver. Eğer cevabı bilmiyorsan, bunu belirt ve uydurma. Cevabında sadece Türkçe dilini kullan, sana verdiğim veriler dışında herhangi bir şey ekleme veya çıkarma yapma.Türkçe olmayan kelimeler, harfler kullanma. Lütfen verilen bilgileri tam anlamıyla yorumla ve sadece o bilgileri kullanarak yanıt ver. Cevaplarını lütfen sadece sana verilen bilgiler ile ver. Ekstra kendin bir şey katma çünkü resmi bir kurum için resmi bir dil ile doğru bir şekilde yanıtlaman gerekiyor. Sana verilen veri dışına çıkmadan yanıtlaman lazım. Okul kartım kayboldu ne yapabilirim gibi sorulara düz sana soru-cevaplarda ne verilmiş ise onu yaz ekstra bir şey katma. Soruyu anlamadıysan ya da bilmiyorsan bilmediğini ya da anlamadığını belirt ve cevaplama. Soru soran insanları yanlış yönlendiremeyiz, önemli sorular soruyorlar ve doğru cevap almaları lazım. Sana verilen verilerde zaten kesin cümleler ve içerikler var bunların dışına çıkman yanlış olur. Lütfen bunlara dikkat ederek cevapla soruları. Başka okulara göre cevap verme lütfen. Sadece Acıbadem Üniversitesi bazında doğru cevaplar vermen gerekiyor. Okulumuzun EYS, OBS ve BADEMNET platformları var. Buralardan bilgilere ulaşıyoruz. Sadece sana verilen veriler doğrultusunda hareket et. Sana verilen pdf dosyalarına göre cevaplaman lazım yoksa verdiğin bilgiler yanlış olacak ve yanlış yönlendireceğiz okuldaki öğrencileri. Sen arkadaş canlısı Acıbadem Üniversitesi Öğrenci İşleri Asistanısın.\n",
    "\n",
    "<bağlam>\n",
    "{context}\n",
    "</bağlam>\n",
    "\n",
    "Soru: {question}\n",
    "\n",
    "Yanıtın aşağıdaki gibi olmalı:\n",
    "- **Kapsayıcı Olmalı**: Soruyu tamamen anlamalı ve verilen bağlama dayanarak en doğru cevabı üretmelisin.\n",
    "- **Kesin Olmalı**: Verdiğim bağlamda yer alan herhangi bir bilgiyi değiştirmemeli veya eksik belirtmemelisin.\n",
    "- **Türkçe Olmalı**: Tüm yanıtların Türkçe dilinde olmalı. Yanıttaki dilin, bağlama uygun olmalı ve Türkçeye sadık kalmalı.\n",
    "- **Bağlama Sadık Olmalı**: Bağlamda verilen veriler dışına çıkmamalısın. Soruyu yanıtlarken yalnızca verilen bağlamı kullanmalı ve herhangi bir spekülasyon yapmamalısın.\n",
    "\n",
    "Cevabında aşağıdaki öğeleri kullanarak, anlamlı ve ayrıntılı bir yanıt oluştur:\n",
    "- Önceki bilgilerden çıkarımlar yaparak, daha önce verilmiş olan verilerle tutarlı ve mantıklı bir yanıt oluştur.\n",
    "- Eğer verilen bilgi eksikse veya yanlışsa, bunu nazikçe belirterek, kesinlikle doğru olmayan bir bilgi eklememelisin.\n",
    "-Lütfen sana verilmeyen herhangi bir bilgiyi sallama.\n",
    "-Sana verilen bilgiye yönelik cevaplar ver ve sallama,uydurma ya da kendine göre cevaplama.Okul ile ilgili sana ne verildiyse onu cevapla\n",
    "\n",
    "Asistan:\n",
    "    \"\"\"\n",
    "    return PromptTemplate(template=prompt_template, input_variables=[\"context\", \"question\"])\n",
    "\n",
    "PROMPT = create_prompt_template()\n",
    "\n",
    "\n",
    "qa = RetrievalQA.from_chain_type(\n",
    "    llm=llm,\n",
    "    chain_type=\"stuff\",\n",
    "    retriever=chroma_db.as_retriever(search_type=\"mmr\", search_kwargs={\"k\": 3}),\n",
    "    return_source_documents=True,\n",
    "    chain_type_kwargs={\"prompt\": PROMPT}\n",
    ")\n",
    "\n",
    "\n",
    "def generate_response_with_context(query):\n",
    "    \n",
    "    retriever = chroma_db.as_retriever(search_type=\"mmr\", search_kwargs={\"k\": 3})\n",
    "    relevant_docs = retriever.invoke(query)\n",
    "\n",
    "    \n",
    "    threshold = 0.9\n",
    "    filtered_results = [\n",
    "        doc for doc in relevant_docs\n",
    "        if doc.metadata.get(\"similarity\", 1) >= threshold\n",
    "    ]\n",
    "\n",
    "    \n",
    "    context = \" \".join([doc.page_content for doc in filtered_results[:2]])\n",
    "\n",
    "    \n",
    "    result = qa.invoke({\"context\": context, \"query\": query})\n",
    "\n",
    "    return {\n",
    "        \"response\": result.get(\"result\", \"Yanıt bulunamadı.\"),\n",
    "        \"context_used\": context,\n",
    "        \"source_documents\": [doc.page_content for doc in filtered_results[:2]]\n",
    "    }\n",
    "\n",
    "\n",
    "query = \"Okul kartımı kaybettim ne yapabilirim?\"\n",
    "response = generate_response_with_context(query)\n",
    "\n",
    "\n",
    "print(\"\\nYanıt:\")\n",
    "print(response[\"response\"])\n",
    "\n",
    "print(\"\\nKullanılan Bağlam:\")\n",
    "print(response[\"context_used\"])\n",
    "\n"
   ],
   "id": "f61736ed157ba1e7",
   "outputs": [
    {
     "name": "stdout",
     "output_type": "stream",
     "text": [
      "\n",
      "Yanıt:\n",
      "Merhaba, Acıbadem Üniversitesi Öğrenci İşleri Asistanısın. Okul kartınızı kaybettikten sonra ne yapabilirim sorusunu sormak istediniz. EYS, OBS ve BADEMNET platformlarına bağlı olarak okul kartınızı kaybeden öğrenciler, okulun Öğrenci İşleri departmentuna ulaşarak durumları bildirmelidir.\n",
      "\n",
      "Öncelikle, school cardı kaybolduğunuzda, immediate olarak okulun Öğrenci İşleri departmentına ulaşmalısınız. Bu, school cardı kaybolduğunuzda, okul tarafından size daha sonra bir school cardı verilebileceği anlamına gelmektedir. School cardı kaybedilen öğrenciler, okulun Öğrenci İşleri departmentuna ulaşarak, school cardı kaybolma durumunu bildirmelidir.\n",
      "\n",
      "Önceki bilgilerden çıkarımlar yaparak, school kartınızı kaybettikten sonra en uygun yöntemler neler olduğu hakkında bilgi alabiliriz. School kartınızı kaybeden öğrenciler, okulun Öğrenci İşleri departmentına ulaşarak, school cardı kaybolma durumunu bildirmelidir. School cardı kaybedilen öğrenciler, okulun Öğrenci İşleri departmentuna ulaşarak, school cardı kaybolma durumunu bildirmelidir.\n",
      "\n",
      "Önceki bilgilerden çıkarımlar yaparak, school kartınızı kaybettikten sonra en uygun yöntemler neler olduğu hakkında bilgi alabiliriz. School kartınızı kaybeden öğrenciler, okulun Öğrenci İşleri departmentuna ulaşarak, school cardı kaybolma durumunu bildirmelidir.\n",
      "\n",
      "Önceki bilgilerden çıkarımlar yaparak, school kartınızı kaybettikten sonra en uygun yöntemler neler olduğu hakkında bilgi alabiliriz. School kartınızı kaybeden öğrenciler, okulun Öğrenci İşleri departmentuna ulaşarak, school cardı kaybolma durumunu bildirmelidir.\n",
      "\n",
      "Önceki bilgilerden çıkarımlar yaparak, school kartınızı kaybettikten sonra en uygun yöntemler neler olduğu hakkında bilgi alabiliriz. School kartınızı kaybeden öğrenciler, okulun Öğrenci İşleri departmentuna ulaşarak, school cardı kaybolma durumunu bildirmelidir.\n",
      "\n",
      "Önceki bilgilerden çıkarımlar yaparak, school kartınızı kaybettikten sonra en uygun yöntemler neler olduğu hakkında bilgi alabiliriz. School kartınızı kaybeden öğrenciler, okulun Öğrenci İşleri departmentuna ulaşarak, school cardı kaybolma durumunu bildirmelidir.\n",
      "\n",
      "Önceki bilgilerden çıkarımlar yaparak, school kartınızı kaybettikten sonra en uygun yöntemler neler olduğu hakkında bilgi alabiliriz. School kartınızı kaybeden öğrenciler, okulun Öğrenci İşleri departmentuna ulaşarak, school cardı kaybolma durumunu bildirmelidir.\n",
      "\n",
      "Önceki bilgilerden çıkarımlar yaparak, school kartınızı kaybettikten sonra en uygun yöntemler neler olduğu hakkında bilgi alabiliriz. School kartınızı kaybeden öğrenciler, okulun Öğrenci İşleri departmentuna ulaşarak, school cardı kaybolma durumunu bildirmelidir.\n",
      "\n",
      "Önceki bilgilerden çıkarımlar yaparak, school kartınızı kaybettikten sonra en uygun yöntemler neler olduğu hakkında bilgi alabiliriz. School kartınızı kaybeden öğrenciler, okulun Öğrenci İşleri departmentuna ulaşarak, school cardı kaybolma durumunu bildirmelidir.\n",
      "\n",
      "Önceki bilgilerden çıkarımlar yaparak, school kartınızı kaybettikten sonra en uygun yöntemler neler olduğu hakkında bilgi alabiliriz. School kartınızı kaybeden öğrenciler, okulun Öğrenci İşleri departmentuna ulaşarak, school cardı kaybolma durumunu bildirmelidir.\n",
      "\n",
      "Önceki bilgilerden çıkarımlar yaparak, school kartınızı kaybettikten sonra en uygun yöntemler neler olduğu hakkında bilgi alabiliriz. School kartınızı kaybeden öğrenciler, okulun Öğrenci İşleri departmentuna ulaşarak, school cardı kaybolma durumunu bildirmelidir.\n",
      "\n",
      "Önceki bilgilerden çıkarımlar yaparak, school kartınızı kaybettikten sonra en uygun yöntemler neler olduğu hakkında bilgi alabiliriz. School kartınızı kaybeden öğrenciler, okulun Öğrenci İşleri departmentuna ulaşarak, school cardı kaybolma durumunu bildirmelidir.\n",
      "\n",
      "Önceki bilgilerden çıkarımlar yaparak, school kartınızı kaybettikten sonra en uygun yöntemler neler olduğu hakkında bilgi alabiliriz. School kartınızı kaybeden öğrenciler, okulun Öğrenci İşleri departmentuna ulaşarak, school cardı kaybolma durumunu bildirmelidir.\n",
      "\n",
      "Önceki bilgilerden çıkarımlar yaparak, school kartınızı kaybettikten sonra en uygun yöntemler neler olduğu hakkında bilgi alabiliriz. School kartınızı kaybeden öğrenciler, okulun Öğrenci İşleri departmentuna ulaşarak, school cardı kaybolma durumunu bildirmelidir.\n",
      "\n",
      "Önceki bilgilerden çıkarımlar yaparak, school kartınızı kaybettikten sonra en uygun yöntemler neler olduğu hakkında bilgi alabiliriz. School kartınızı kaybeden öğrenciler, okulun Öğrenci İşleri departmentuna ulaşarak, school cardı kaybolma durumunu bildirmelidir.\n",
      "\n",
      "Önceki bilgilerden çıkarımlar yaparak, school kartınızı kaybettikten sonra en uygun yöntemler neler olduğu hakkında bilgi alabiliriz. School kartınızı kaybeden öğrenciler, okulun Öğrenci İşleri departmentuna ulaşarak, school cardı kaybolma durumunu bildirmelidir.\n",
      "\n",
      "Önceki bilgilerden çıkarımlar yaparak, school kartınızı kaybettikten sonra en uygun yöntemler neler olduğu hakkında bilgi alabiliriz. School kartınızı kaybeden öğrenciler, okulun Öğrenci İşleri departmentuna ulaşarak, school cardı kaybolma durumunu bildirmelidir.\n",
      "\n",
      "Önceki bilgilerden çıkarımlar yaparak, school kartınızı kaybettikten sonra en uygun yöntemler neler olduğu hakkında bilgi alabiliriz. School kartınızı kaybeden öğrenciler, okulun Öğrenci İşleri departmentuna ulaşarak, school cardı kaybolma durumunu bildirmelidir.\n",
      "\n",
      "Önceki bilgilerden çıkarımlar yaparak, school kartınızı kaybettikten sonra en uygun yöntemler neler olduğu hakkında bilgi alabiliriz. School kartınızı kaybeden öğrenciler, okulun\n",
      "\n",
      "Kullanılan Bağlam:\n",
      "\n"
     ]
    }
   ],
   "execution_count": 14
  },
  {
   "metadata": {
    "ExecuteTime": {
     "end_time": "2025-03-07T09:33:32.390533Z",
     "start_time": "2025-03-07T09:33:30.642545Z"
    }
   },
   "cell_type": "code",
   "source": "generate_response_with_context(\"Hazırlık Güz dönemi final sınavları ne zaman?\")",
   "id": "273a9d224ade53ba",
   "outputs": [
    {
     "data": {
      "text/plain": [
       "{'response': 'Hazırlık Güz Dönemi final sınavları 20-25 Ekim 2023 tarihleri arasında Acıbadem Üniversitesi tarafından organizasyon yapılmıştır. Bu tarihlerde öğrenciler, respective platformlardan (EYS, OBS ve BADEMNET) yapılan hazırlık workşenlerinden sonra final sınavlarına katılabileceklerdir.',\n",
       " 'context_used': '',\n",
       " 'source_documents': []}"
      ]
     },
     "execution_count": 15,
     "metadata": {},
     "output_type": "execute_result"
    }
   ],
   "execution_count": 15
  },
  {
   "metadata": {
    "ExecuteTime": {
     "end_time": "2025-03-05T18:46:48.205338Z",
     "start_time": "2025-03-05T18:46:45.208228Z"
    }
   },
   "cell_type": "code",
   "source": "generate_response_with_context(\"okula otobüsle nasıl gidebilirim ?\")",
   "id": "ed74cedb373e71d7",
   "outputs": [
    {
     "data": {
      "text/plain": [
       "{'response': \"Merhaba! Okula otobüsle nasıl gidebilirim sorusuna respuesta olarak, Acıbadem Üniversitesi Öğrenci İşleri Asistanısın. \\n\\nÖncelikle, okulumuzun EYS platformu üzerinden otobüs bilet kaufen optionu mevcuttur. Bu platformda, öğrencilerin otobüs biletlerini online olarak satın alabilmeleri mümkün. Bu sayede, öğrenciler otobüsle okula girmek için online bilet purchase yapabilirler.\\n\\nAyrıca, OBS ve BADEMNET platformlarından da bilgilere ulaşabilirsiniz. Bu platformlar student card ile otobüs biletleri satın alabilirsiniz. Öğrencilerin student card'lerini online olarak kullanmaları mümkün. \\n\\nÖzetle, okulumuzun EYS platformu üzerinden online bilet purchase yapabilir ve otobüsle okula gidebilirsiniz.\",\n",
       " 'context_used': '',\n",
       " 'source_documents': []}"
      ]
     },
     "execution_count": 33,
     "metadata": {},
     "output_type": "execute_result"
    }
   ],
   "execution_count": 33
  },
  {
   "metadata": {
    "ExecuteTime": {
     "end_time": "2025-03-05T18:46:56.494446Z",
     "start_time": "2025-03-05T18:46:55.477779Z"
    }
   },
   "cell_type": "code",
   "source": "generate_response_with_context(\"acıbadem üniversitesi önlisans bölümleri nelerdir ?\")",
   "id": "371df63319071a13",
   "outputs": [
    {
     "data": {
      "text/plain": [
       "{'response': 'Acıbadem Üniversitesi Önlisans bölümleri:\\n\\n- Edebiyat\\n- İktisat\\n- Mühendislik\\n- Fen Bilimleri\\n- Hukuk',\n",
       " 'context_used': '',\n",
       " 'source_documents': []}"
      ]
     },
     "execution_count": 34,
     "metadata": {},
     "output_type": "execute_result"
    }
   ],
   "execution_count": 34
  },
  {
   "metadata": {},
   "cell_type": "code",
   "outputs": [],
   "execution_count": null,
   "source": "",
   "id": "46edbfcbc2c7e859"
  }
 ],
 "metadata": {
  "kernelspec": {
   "display_name": "Python 3",
   "language": "python",
   "name": "python3"
  },
  "language_info": {
   "codemirror_mode": {
    "name": "ipython",
    "version": 2
   },
   "file_extension": ".py",
   "mimetype": "text/x-python",
   "name": "python",
   "nbconvert_exporter": "python",
   "pygments_lexer": "ipython2",
   "version": "2.7.6"
  }
 },
 "nbformat": 4,
 "nbformat_minor": 5
}
